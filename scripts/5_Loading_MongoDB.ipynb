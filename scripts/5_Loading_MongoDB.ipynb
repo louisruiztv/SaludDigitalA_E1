{
 "cells": [
  {
   "cell_type": "markdown",
   "id": "870ff6f3",
   "metadata": {},
   "source": [
    "# Cargando los datos a Mongo db"
   ]
  },
  {
   "cell_type": "code",
   "execution_count": 3,
   "id": "c30ae5ff",
   "metadata": {},
   "outputs": [
    {
     "name": "stdout",
     "output_type": "stream",
     "text": [
      "Insertados: 3000\n"
     ]
    }
   ],
   "source": [
    "import pandas as pd\n",
    "from pymongo import MongoClient\n",
    "import os\n",
    "from dotenv import load_dotenv\n",
    "\n",
    "load_dotenv()\n",
    "MONGO_URI = os.getenv('MONGO_URI', 'mongodb://localhost:27017')\n",
    "client = MongoClient(MONGO_URI)\n",
    "db = client['SaludDigital_2025']\n",
    "col = db['pacientes']\n",
    "\n",
    "df = pd.read_csv('../database/pacientes_clean.csv')\n",
    "records = df.to_dict(orient='records')\n",
    "# opcional: borrar colección antes de cargar en pruebas\n",
    "col.delete_many({})\n",
    "col.insert_many(records)\n",
    "print(\"Insertados:\", col.count_documents({}))\n"
   ]
  }
 ],
 "metadata": {
  "kernelspec": {
   "display_name": "myenv",
   "language": "python",
   "name": "python3"
  },
  "language_info": {
   "codemirror_mode": {
    "name": "ipython",
    "version": 3
   },
   "file_extension": ".py",
   "mimetype": "text/x-python",
   "name": "python",
   "nbconvert_exporter": "python",
   "pygments_lexer": "ipython3",
   "version": "3.11.0"
  }
 },
 "nbformat": 4,
 "nbformat_minor": 5
}
