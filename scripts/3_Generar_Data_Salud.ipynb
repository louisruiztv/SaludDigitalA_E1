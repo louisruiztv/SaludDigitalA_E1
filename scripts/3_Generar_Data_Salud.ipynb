{
 "cells": [
  {
   "cell_type": "markdown",
   "id": "fc96cb0f",
   "metadata": {},
   "source": [
    "# Generando los datos aleatorios\n",
    "Una creacion de 3000 registros"
   ]
  },
  {
   "cell_type": "code",
   "execution_count": 5,
   "id": "d00685d0",
   "metadata": {},
   "outputs": [],
   "source": [
    "from faker import Faker\n",
    "import pandas as pd\n",
    "import random\n",
    "import numpy as np\n",
    "\n",
    "fake = Faker('es_MX')  # o es_PE si disponible\n",
    "n = 3000\n",
    "servicios = ['Odontología','Pediatría','Medicina General','Traumatología','Cardiología']\n",
    "distritos = ['Miraflores','Surco','San Isidro','Jesus Maria','Rimac','San Miguel']\n",
    "sexos = ['M','F']\n",
    "\n",
    "rows = []\n",
    "for i in range(1, n+1):\n",
    "    # introducir nulos y valores NA intencionalmente\n",
    "    nombre = fake.name() if random.random() > 0.02 else None\n",
    "    edad = random.randint(0, 90) if random.random() > 0.01 else None\n",
    "    sexo = random.choice(sexos) if random.random() > 0.02 else None\n",
    "    distrito = random.choice(distritos) if random.random() > 0.03 else 'NA'\n",
    "    servicio = random.choice(servicios)\n",
    "    fecha = fake.date_between(start_date='-2y', end_date='today').isoformat()\n",
    "    monto = round(random.uniform(50, 2000), 2) if random.random() > 0.05 else None\n",
    "    rows.append({\n",
    "        'id_paciente': f'P{i:04d}',\n",
    "        'nombre': nombre,\n",
    "        'edad': edad,\n",
    "        'sexo': sexo,\n",
    "        'distrito': distrito,\n",
    "        'servicio': servicio,\n",
    "        'fecha_atencion': fecha,\n",
    "        'monto': monto\n",
    "    })\n",
    "\n",
    "df = pd.DataFrame(rows)\n",
    "df.to_csv('../data/pacientes.csv', index=False)\n"
   ]
  }
 ],
 "metadata": {
  "kernelspec": {
   "display_name": "myenv",
   "language": "python",
   "name": "python3"
  },
  "language_info": {
   "codemirror_mode": {
    "name": "ipython",
    "version": 3
   },
   "file_extension": ".py",
   "mimetype": "text/x-python",
   "name": "python",
   "nbconvert_exporter": "python",
   "pygments_lexer": "ipython3",
   "version": "3.11.0"
  }
 },
 "nbformat": 4,
 "nbformat_minor": 5
}
