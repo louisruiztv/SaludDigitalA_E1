{
 "cells": [
  {
   "cell_type": "markdown",
   "id": "75488711",
   "metadata": {},
   "source": [
    "## Creando la estructura"
   ]
  },
  {
   "cell_type": "code",
   "execution_count": 7,
   "id": "81d25791",
   "metadata": {},
   "outputs": [
    {
     "name": "stdout",
     "output_type": "stream",
     "text": [
      "✅ Carpeta creada/verificada: c:\\Users\\user\\Documents\\SaludDigitalA_E1\\data\n",
      "✅ Carpeta creada/verificada: c:\\Users\\user\\Documents\\SaludDigitalA_E1\\database\n",
      "✅ Carpeta creada/verificada: c:\\Users\\user\\Documents\\SaludDigitalA_E1\\reports\n",
      "✅ Carpeta creada/verificada: c:\\Users\\user\\Documents\\SaludDigitalA_E1\\ci\n",
      "✅ Carpeta creada/verificada: c:\\Users\\user\\Documents\\SaludDigitalA_E1\\git\n",
      "⚠️ El archivo 'paciente.csv' ya existe, no se sobrescribirá.\n"
     ]
    }
   ],
   "source": [
    "# ============================================\n",
    "# 2_Crear_Estructura.ipynb\n",
    "# Ubicación: /scripts/\n",
    "# Objetivo: Crear las carpetas principales del proyecto en la raíz\n",
    "# ============================================\n",
    "\n",
    "from pathlib import Path\n",
    "\n",
    "# Subir un nivel desde /scripts hasta la raíz del proyecto\n",
    "base_path = Path.cwd().parent\n",
    "\n",
    "# Carpetas que se deben crear en la raíz\n",
    "folders = [\"data\", \"database\", \"reports\", \"ci\", \"git\"]\n",
    "\n",
    "for folder in folders:\n",
    "    path = base_path / folder\n",
    "    path.mkdir(parents=True, exist_ok=True)\n",
    "    print(f\"✅ Carpeta creada/verificada: {path}\")\n",
    "\n",
    "# Crear el archivo base dentro de /data\n",
    "archivo_csv = base_path / \"data\" / \"pacientes.csv\"\n",
    "\n",
    "# Cabeceras del archivo base\n",
    "encabezados = \"id_paciente,nombre,edad,sexo,distrito,servicio,fecha_atencion,monto\\n\"\n",
    "\n",
    "# Crear archivo base si no existe\n",
    "if not archivo_csv.exists():\n",
    "    with open(archivo_csv, \"w\", encoding=\"utf-8\") as f:\n",
    "        f.write(encabezados)\n",
    "    print(f\"🧾 Archivo 'paciente.csv' creado correctamente en: {archivo_csv}\")\n",
    "else:\n",
    "    print(\"⚠️ El archivo 'paciente.csv' ya existe, no se sobrescribirá.\")\n"
   ]
  }
 ],
 "metadata": {
  "kernelspec": {
   "display_name": "myenv",
   "language": "python",
   "name": "python3"
  },
  "language_info": {
   "codemirror_mode": {
    "name": "ipython",
    "version": 3
   },
   "file_extension": ".py",
   "mimetype": "text/x-python",
   "name": "python",
   "nbconvert_exporter": "python",
   "pygments_lexer": "ipython3",
   "version": "3.11.0"
  }
 },
 "nbformat": 4,
 "nbformat_minor": 5
}
