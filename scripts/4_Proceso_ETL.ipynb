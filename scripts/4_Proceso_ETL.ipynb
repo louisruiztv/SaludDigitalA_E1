{
 "cells": [
  {
   "cell_type": "markdown",
   "id": "ca1ad2fb",
   "metadata": {},
   "source": [
    "# Limpieza de datos"
   ]
  },
  {
   "cell_type": "code",
   "execution_count": 1,
   "id": "6131c6cd",
   "metadata": {},
   "outputs": [],
   "source": [
    "import pandas as pd\n",
    "import numpy as np\n",
    "\n",
    "df = pd.read_csv('../data/pacientes.csv', dtype=str)\n",
    "# Normalizar\n",
    "df = df.replace(['NA','na','N/A','None',''], np.nan)\n",
    "# Eliminar duplicados\n",
    "df = df.drop_duplicates(subset=['id_paciente','fecha_atencion'])\n",
    "# Convertir tipos\n",
    "df['edad'] = pd.to_numeric(df['edad'], errors='coerce')\n",
    "df['monto'] = pd.to_numeric(df['monto'], errors='coerce')\n",
    "df['fecha_atencion'] = pd.to_datetime(df['fecha_atencion'], errors='coerce')\n",
    "# Rellenos (ejemplos)\n",
    "df['nombre'] = df['nombre'].fillna('Desconocido')\n",
    "df['sexo'] = df['sexo'].fillna('ND')\n",
    "df['monto'] = df['monto'].fillna(df['monto'].median())\n",
    "df['edad'] = df['edad'].fillna(df['edad'].median()).astype(int)\n",
    "# Guardar limpio\n",
    "df.to_csv('../database/pacientes_clean.csv', index=False)\n"
   ]
  }
 ],
 "metadata": {
  "kernelspec": {
   "display_name": "myenv",
   "language": "python",
   "name": "python3"
  },
  "language_info": {
   "codemirror_mode": {
    "name": "ipython",
    "version": 3
   },
   "file_extension": ".py",
   "mimetype": "text/x-python",
   "name": "python",
   "nbconvert_exporter": "python",
   "pygments_lexer": "ipython3",
   "version": "3.11.0"
  }
 },
 "nbformat": 4,
 "nbformat_minor": 5
}
