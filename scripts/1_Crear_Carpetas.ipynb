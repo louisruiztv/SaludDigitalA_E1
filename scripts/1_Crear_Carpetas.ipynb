{
 "cells": [
  {
   "cell_type": "markdown",
   "id": "9e5094c2",
   "metadata": {},
   "source": [
    "# Creación de carpetas del proyecto\n",
    "\n",
    "Aqui voy a crear las carpetas de proyecto necesarias automaticamente"
   ]
  },
  {
   "cell_type": "code",
   "execution_count": 8,
   "id": "4205a98c",
   "metadata": {},
   "outputs": [
    {
     "name": "stdout",
     "output_type": "stream",
     "text": [
      "Carpeta creada en: c:\\Users\\user\\Documents\\SaludDigitalA_E1\\scripts\\../git\n"
     ]
    }
   ],
   "source": [
    "# Creacion de la carpeta git si no existe\n",
    "import os \n",
    "# Ruta de la carpeta \"data\" dentro del proyecto actual \n",
    "ruta_carpeta = os.path.join(os.getcwd(), \"../git\") \n",
    "# Crear carpeta si no existe \n",
    "if not os.path.exists(ruta_carpeta): \n",
    "    os.makedirs(ruta_carpeta) \n",
    "    print(f\"Carpeta creada en: {ruta_carpeta}\") \n",
    "else: \n",
    "    print(\"La carpeta 'data' ya existe.\") "
   ]
  },
  {
   "cell_type": "code",
   "execution_count": 3,
   "id": "9c3a3164",
   "metadata": {},
   "outputs": [
    {
     "name": "stdout",
     "output_type": "stream",
     "text": [
      "Carpeta creada en: c:\\Users\\user\\Documents\\SaludDigitalA_E1\\scripts\\..\\data\n"
     ]
    }
   ],
   "source": [
    "# Creacion de la carpeta data\n",
    "from pathlib import Path \n",
    "# Definir la ruta de la carpeta \"data\" \n",
    "ruta_carpeta = Path.cwd() / \"../data\" \n",
    "# Crear la carpeta si no existe \n",
    "ruta_carpeta.mkdir(parents=True, exist_ok=True) \n",
    "print(f\"Carpeta creada en: {ruta_carpeta}\") "
   ]
  },
  {
   "cell_type": "code",
   "execution_count": 4,
   "id": "8e2c24dd",
   "metadata": {},
   "outputs": [
    {
     "name": "stdout",
     "output_type": "stream",
     "text": [
      "Carpeta creada en: c:\\Users\\user\\Documents\\SaludDigitalA_E1\\scripts\\..\\database\n"
     ]
    }
   ],
   "source": [
    "# Creacion de la carpeta database\n",
    "from pathlib import Path \n",
    "# Definir la ruta de la carpeta \"data\" \n",
    "ruta_carpeta = Path.cwd() / \"../database\" \n",
    "# Crear la carpeta si no existe \n",
    "ruta_carpeta.mkdir(parents=True, exist_ok=True) \n",
    "print(f\"Carpeta creada en: {ruta_carpeta}\") "
   ]
  },
  {
   "cell_type": "code",
   "execution_count": 5,
   "id": "cdf6ff1a",
   "metadata": {},
   "outputs": [
    {
     "name": "stdout",
     "output_type": "stream",
     "text": [
      "Carpeta creada en: c:\\Users\\user\\Documents\\SaludDigitalA_E1\\scripts\\..\\reports\n"
     ]
    }
   ],
   "source": [
    "# Creación de la carpeta reports\n",
    "from pathlib import Path \n",
    "# Definir la ruta de la carpeta \"data\" \n",
    "ruta_carpeta = Path.cwd() / \"../reports\" \n",
    "# Crear la carpeta si no existe \n",
    "ruta_carpeta.mkdir(parents=True, exist_ok=True) \n",
    "print(f\"Carpeta creada en: {ruta_carpeta}\") "
   ]
  },
  {
   "cell_type": "code",
   "execution_count": 6,
   "id": "8ec462b3",
   "metadata": {},
   "outputs": [
    {
     "name": "stdout",
     "output_type": "stream",
     "text": [
      "Carpeta creada en: c:\\Users\\user\\Documents\\SaludDigitalA_E1\\scripts\\..\\ci\n"
     ]
    }
   ],
   "source": [
    "# Creacion de la carpeta ci (continuous integration)\n",
    "from pathlib import Path \n",
    "# Definir la ruta de la carpeta \"data\" \n",
    "ruta_carpeta = Path.cwd() / \"../ci\" \n",
    "# Crear la carpeta si no existe \n",
    "ruta_carpeta.mkdir(parents=True, exist_ok=True) \n",
    "print(f\"Carpeta creada en: {ruta_carpeta}\") "
   ]
  }
 ],
 "metadata": {
  "kernelspec": {
   "display_name": "myenv",
   "language": "python",
   "name": "python3"
  },
  "language_info": {
   "codemirror_mode": {
    "name": "ipython",
    "version": 3
   },
   "file_extension": ".py",
   "mimetype": "text/x-python",
   "name": "python",
   "nbconvert_exporter": "python",
   "pygments_lexer": "ipython3",
   "version": "3.11.0"
  }
 },
 "nbformat": 4,
 "nbformat_minor": 5
}
